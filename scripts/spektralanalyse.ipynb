{
 "cells": [
  {
   "cell_type": "markdown",
   "id": "23924b11",
   "metadata": {},
   "source": [
    "# Spektralanlyse"
   ]
  },
  {
   "cell_type": "code",
   "execution_count": 1,
   "id": "6c602990",
   "metadata": {},
   "outputs": [],
   "source": [
    "#imports\n",
    "import numpy as np"
   ]
  }
 ],
 "metadata": {
  "kernelspec": {
   "display_name": "Python 3",
   "language": "python",
   "name": "python3"
  },
  "language_info": {
   "codemirror_mode": {
    "name": "ipython",
    "version": 3
   },
   "file_extension": ".py",
   "mimetype": "text/x-python",
   "name": "python",
   "nbconvert_exporter": "python",
   "pygments_lexer": "ipython3",
   "version": "3.11.9"
  }
 },
 "nbformat": 4,
 "nbformat_minor": 5
}
